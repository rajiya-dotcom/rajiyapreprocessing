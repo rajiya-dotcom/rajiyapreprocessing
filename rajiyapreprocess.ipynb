{
 "cells": [
  {
   "cell_type": "code",
   "execution_count": 1,
   "metadata": {},
   "outputs": [
    {
     "data": {
      "text/plain": [
       "{'product name': [],\n",
       " 'price': [],\n",
       " 'expiray date': [],\n",
       " 'manufactured date': [],\n",
       " 'brand': [],\n",
       " 'type': [],\n",
       " 'size': [],\n",
       " 'color': [],\n",
       " 'property': [],\n",
       " 'selling price': [],\n",
       " 'cost price': []}"
      ]
     },
     "execution_count": 1,
     "metadata": {},
     "output_type": "execute_result"
    }
   ],
   "source": [
    "import pandas as pd\n",
    "data={'product name':[],'price':[],'expiray date':[],'manufactured date':[],'brand':[],'type':[],'size':[],'color':[],\n",
    "      'property':[],'selling price':[],'cost price':[]}\n",
    "data"
   ]
  },
  {
   "cell_type": "code",
   "execution_count": 2,
   "metadata": {},
   "outputs": [
    {
     "data": {
      "text/html": [
       "<div>\n",
       "<style scoped>\n",
       "    .dataframe tbody tr th:only-of-type {\n",
       "        vertical-align: middle;\n",
       "    }\n",
       "\n",
       "    .dataframe tbody tr th {\n",
       "        vertical-align: top;\n",
       "    }\n",
       "\n",
       "    .dataframe thead th {\n",
       "        text-align: right;\n",
       "    }\n",
       "</style>\n",
       "<table border=\"1\" class=\"dataframe\">\n",
       "  <thead>\n",
       "    <tr style=\"text-align: right;\">\n",
       "      <th></th>\n",
       "      <th>product name</th>\n",
       "      <th>price</th>\n",
       "      <th>expiray date</th>\n",
       "      <th>manufactured date</th>\n",
       "      <th>brand</th>\n",
       "      <th>type</th>\n",
       "      <th>size</th>\n",
       "      <th>color</th>\n",
       "      <th>property</th>\n",
       "      <th>selling price</th>\n",
       "      <th>cost price</th>\n",
       "    </tr>\n",
       "  </thead>\n",
       "  <tbody>\n",
       "  </tbody>\n",
       "</table>\n",
       "</div>"
      ],
      "text/plain": [
       "Empty DataFrame\n",
       "Columns: [product name, price, expiray date, manufactured date, brand, type, size, color, property, selling price, cost price]\n",
       "Index: []"
      ]
     },
     "execution_count": 2,
     "metadata": {},
     "output_type": "execute_result"
    }
   ],
   "source": [
    "d=pd.DataFrame(data)\n",
    "d"
   ]
  },
  {
   "cell_type": "code",
   "execution_count": 3,
   "metadata": {},
   "outputs": [
    {
     "data": {
      "text/html": [
       "<div>\n",
       "<style scoped>\n",
       "    .dataframe tbody tr th:only-of-type {\n",
       "        vertical-align: middle;\n",
       "    }\n",
       "\n",
       "    .dataframe tbody tr th {\n",
       "        vertical-align: top;\n",
       "    }\n",
       "\n",
       "    .dataframe thead th {\n",
       "        text-align: right;\n",
       "    }\n",
       "</style>\n",
       "<table border=\"1\" class=\"dataframe\">\n",
       "  <thead>\n",
       "    <tr style=\"text-align: right;\">\n",
       "      <th></th>\n",
       "      <th>product name</th>\n",
       "      <th>price</th>\n",
       "      <th>Expiray date</th>\n",
       "      <th>Manufactured date</th>\n",
       "      <th>brand</th>\n",
       "      <th>type</th>\n",
       "      <th>size</th>\n",
       "      <th>color</th>\n",
       "      <th>property</th>\n",
       "      <th>selling price</th>\n",
       "      <th>post price</th>\n",
       "    </tr>\n",
       "  </thead>\n",
       "  <tbody>\n",
       "  </tbody>\n",
       "</table>\n",
       "</div>"
      ],
      "text/plain": [
       "Empty DataFrame\n",
       "Columns: [product name, price, Expiray date, Manufactured date, brand, type, size, color, property, selling price, post price]\n",
       "Index: []"
      ]
     },
     "execution_count": 3,
     "metadata": {},
     "output_type": "execute_result"
    }
   ],
   "source": [
    "import pandas as pd\n",
    "data={'product name':[],'price':[],'Expiray date':[],'Manufactured date':[],'brand':[],'type':[],'size':[],'color':[],\n",
    "      'property':[],'selling price':[],'post price':[]}\n",
    "d1=pd.DataFrame(data)\n",
    "d1"
   ]
  },
  {
   "cell_type": "code",
   "execution_count": 4,
   "metadata": {},
   "outputs": [],
   "source": [
    "f1=d.to_csv('data.csv')"
   ]
  },
  {
   "cell_type": "code",
   "execution_count": 5,
   "metadata": {},
   "outputs": [
    {
     "data": {
      "text/html": [
       "<div>\n",
       "<style scoped>\n",
       "    .dataframe tbody tr th:only-of-type {\n",
       "        vertical-align: middle;\n",
       "    }\n",
       "\n",
       "    .dataframe tbody tr th {\n",
       "        vertical-align: top;\n",
       "    }\n",
       "\n",
       "    .dataframe thead th {\n",
       "        text-align: right;\n",
       "    }\n",
       "</style>\n",
       "<table border=\"1\" class=\"dataframe\">\n",
       "  <thead>\n",
       "    <tr style=\"text-align: right;\">\n",
       "      <th></th>\n",
       "      <th>Unnamed: 0</th>\n",
       "      <th>product name</th>\n",
       "      <th>price</th>\n",
       "      <th>expiray date</th>\n",
       "      <th>manufactured date</th>\n",
       "      <th>brand</th>\n",
       "      <th>type</th>\n",
       "      <th>size</th>\n",
       "      <th>color</th>\n",
       "      <th>property</th>\n",
       "      <th>selling price</th>\n",
       "      <th>cost price</th>\n",
       "    </tr>\n",
       "  </thead>\n",
       "  <tbody>\n",
       "  </tbody>\n",
       "</table>\n",
       "</div>"
      ],
      "text/plain": [
       "Empty DataFrame\n",
       "Columns: [Unnamed: 0, product name, price, expiray date, manufactured date, brand, type, size, color, property, selling price, cost price]\n",
       "Index: []"
      ]
     },
     "execution_count": 5,
     "metadata": {},
     "output_type": "execute_result"
    }
   ],
   "source": [
    "f1=pd.read_csv('data.csv')\n",
    "f1"
   ]
  },
  {
   "cell_type": "code",
   "execution_count": 6,
   "metadata": {},
   "outputs": [
    {
     "data": {
      "text/html": [
       "<div>\n",
       "<style scoped>\n",
       "    .dataframe tbody tr th:only-of-type {\n",
       "        vertical-align: middle;\n",
       "    }\n",
       "\n",
       "    .dataframe tbody tr th {\n",
       "        vertical-align: top;\n",
       "    }\n",
       "\n",
       "    .dataframe thead th {\n",
       "        text-align: right;\n",
       "    }\n",
       "</style>\n",
       "<table border=\"1\" class=\"dataframe\">\n",
       "  <thead>\n",
       "    <tr style=\"text-align: right;\">\n",
       "      <th></th>\n",
       "      <th>Unnamed: 0</th>\n",
       "      <th>product name</th>\n",
       "      <th>price</th>\n",
       "      <th>Expiray date</th>\n",
       "      <th>Manufactured date</th>\n",
       "      <th>brand</th>\n",
       "      <th>type</th>\n",
       "      <th>size</th>\n",
       "      <th>color</th>\n",
       "      <th>property</th>\n",
       "      <th>selling price</th>\n",
       "      <th>post price</th>\n",
       "    </tr>\n",
       "  </thead>\n",
       "  <tbody>\n",
       "  </tbody>\n",
       "</table>\n",
       "</div>"
      ],
      "text/plain": [
       "Empty DataFrame\n",
       "Columns: [Unnamed: 0, product name, price, Expiray date, Manufactured date, brand, type, size, color, property, selling price, post price]\n",
       "Index: []"
      ]
     },
     "execution_count": 6,
     "metadata": {},
     "output_type": "execute_result"
    }
   ],
   "source": [
    "f2=d1.to_csv('data.csv')\n",
    "f2=pd.read_csv('data.csv')\n",
    "f2"
   ]
  },
  {
   "cell_type": "code",
   "execution_count": 7,
   "metadata": {
    "scrolled": true
   },
   "outputs": [
    {
     "name": "stdout",
     "output_type": "stream",
     "text": [
      "Unnamed:0\n",
      "productname\n",
      "price\n",
      "expiraydate\n",
      "manufactureddate\n",
      "brand\n",
      "type\n",
      "size\n",
      "color\n",
      "property\n",
      "sellingprice\n",
      "The number of columns which are matching in two csv files are:11\n",
      "The columns which are not matching in both given csv files are:{'postprice', 'costprice'}\n",
      "Both csv files are equal\n"
     ]
    }
   ],
   "source": [
    "import string\n",
    "def matches_column(f1,f2):\n",
    "    count=0\n",
    "    import nltk \n",
    "    from nltk.corpus import wordnet\n",
    "    for i in c2:\n",
    "        for j in d2:\n",
    "            if (i==j  and wordnet.synsets(i)==wordnet.synsets(j))or i.casefold()==j.casefold():\n",
    "                    print(i)\n",
    "                    count=count+1\n",
    "                                \n",
    "    print('The number of columns which are matching in two csv files are:' + str(count)) \n",
    "    c=[i.lower() for i in c2]\n",
    "    d=[j.lower() for j in d2]\n",
    "    for k1 in c2:\n",
    "        for k2 in d2:\n",
    "            if k1==k2:\n",
    "                result=(set(c)-set(d)).union(set(d)-set(c))\n",
    "    print('The columns which are not matching in both given csv files are:' + str(result)) \n",
    "    c3=len(c2)\n",
    "    d3=len(d2)\n",
    "    if c3>d3:\n",
    "        k=c3-d3\n",
    "        print('csv file 1 contains' + str(k) + 'extra column')\n",
    "    elif c3==d3:\n",
    "        print('Both csv files are equal')\n",
    "    else:\n",
    "        if c3<d3:\n",
    "            k1=d3-c3\n",
    "            print('csv file 2 contains' + str(k1) + 'extra column')\n",
    "            \n",
    "a=list(f1.columns)\n",
    "b=list(f2.columns)\n",
    "c1=[s.translate(string.punctuation) for s in a]\n",
    "d1=[s.translate(string.punctuation) for s in b]\n",
    "c2=[s.replace(\" \",\"\") for s in c1]\n",
    "d2=[s.replace(\" \",\"\") for s in d1]\n",
    "matches_column(f1,f2)  \n"
   ]
  },
  {
   "cell_type": "code",
   "execution_count": null,
   "metadata": {},
   "outputs": [],
   "source": []
  }
 ],
 "metadata": {
  "kernelspec": {
   "display_name": "Python 3",
   "language": "python",
   "name": "python3"
  },
  "language_info": {
   "codemirror_mode": {
    "name": "ipython",
    "version": 3
   },
   "file_extension": ".py",
   "mimetype": "text/x-python",
   "name": "python",
   "nbconvert_exporter": "python",
   "pygments_lexer": "ipython3",
   "version": "3.7.4"
  }
 },
 "nbformat": 4,
 "nbformat_minor": 2
}
